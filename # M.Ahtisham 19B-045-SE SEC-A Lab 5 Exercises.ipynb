{
 "cells": [
  {
   "cell_type": "markdown",
   "metadata": {},
   "source": [
    "# M.Ahtisham 19B-045-SE SEC-A Lab 5 Exercises"
   ]
  },
  {
   "cell_type": "code",
   "execution_count": 4,
   "metadata": {},
   "outputs": [
    {
     "name": "stdout",
     "output_type": "stream",
     "text": [
      "Enter the radius of cylinder: 3\n",
      "Enter the height of cylinder: 5\n",
      "The area of a cylinder is : 150.79644737231007 cm³\n",
      "The volume of a cylinder is : 141.3716694115407 cm³\n"
     ]
    }
   ],
   "source": [
    "#exercise no 1\n",
    "from math import pi\n",
    "def area(r,h):\n",
    "    A = (2 * pi * r * h) + (2 * pi *(r**2))\n",
    "    print(\"The area of a cylinder is : {0} cm\\u00b3\".format(A))\n",
    "    return\n",
    "r= eval(input(\"Enter the radius of cylinder: \"))\n",
    "h= eval(input(\"Enter the height of cylinder: \"))\n",
    "area(r,h)\n",
    "\n",
    "def volume(r,h):\n",
    "    V = (pi * (r**2) * h)\n",
    "    print(\"The volume of a cylinder is : {0} cm\\u00b3\".format(V))\n",
    "    return\n",
    "volume(r,h)"
   ]
  },
  {
   "cell_type": "code",
   "execution_count": 5,
   "metadata": {},
   "outputs": [
    {
     "name": "stdout",
     "output_type": "stream",
     "text": [
      "Enter the lenght of rectangle: 3\n",
      "Enter the width of rectangle: 5\n",
      "The area of rectangle is : 15 cm²\n"
     ]
    }
   ],
   "source": [
    "#exercise no 2\n",
    "def area(l,w):\n",
    "    A = l*w\n",
    "    print(\"The area of rectangle is : {0} cm\\u00b2\".format(A))\n",
    "    return\n",
    "l= eval(input(\"Enter the lenght of rectangle: \"))\n",
    "w= eval(input(\"Enter the width of rectangle: \"))\n",
    "area(l,w)"
   ]
  },
  {
   "cell_type": "code",
   "execution_count": 8,
   "metadata": {},
   "outputs": [
    {
     "name": "stdout",
     "output_type": "stream",
     "text": [
      "Enter the first term of the sequence: 3\n",
      "Enter the common difference of the sequence: 6\n",
      "Do you want to find the nth term Yes or No: yes\n",
      "Enter the nth term you want to find: 35\n",
      "207\n",
      "Do you want to find another nth term of the sequence: yes\n",
      "Enter the nth term you want to find: 45\n",
      "267\n",
      "Do you want to find another nth term of the sequence: yes\n",
      "Enter the nth term you want to find: 96\n",
      "573\n",
      "Do you want to find another nth term of the sequence: no\n"
     ]
    },
    {
     "data": {
      "text/plain": [
       "('The answer of the nth term you entered is: ', 573)"
      ]
     },
     "execution_count": 8,
     "metadata": {},
     "output_type": "execute_result"
    }
   ],
   "source": [
    "#exercise no 3\n",
    "def sequence(a,d):\n",
    "    x = str(input(\"Do you want to find the nth term Yes or No: \"))\n",
    "    z= x.casefold()\n",
    "    while(z == \"yes\"):\n",
    "        n = int(input(\"Enter the nth term you want to find: \"))\n",
    "        tn = a + ((n - 1) * d)\n",
    "        print(tn)\n",
    "        x = input(\"Do you want to find another nth term of the sequence: \")\n",
    "        z = x.casefold()\n",
    "    return \"The answer of the nth term you entered is: \", tn\n",
    "a = int(input(\"Enter the first term of the sequence: \"))\n",
    "d = int(input(\"Enter the common difference of the sequence: \"))\n",
    "sequence(a,d)"
   ]
  },
  {
   "cell_type": "code",
   "execution_count": 1,
   "metadata": {},
   "outputs": [
    {
     "name": "stdout",
     "output_type": "stream",
     "text": [
      "Enter the text you want to check for palindrome: civic\n",
      "Yes your string is palindrome\n"
     ]
    }
   ],
   "source": [
    "#exercise no 4\n",
    "def palindrome(s):\n",
    "    x = s.casefold()\n",
    "    y = len(s)\n",
    "    z = x[y::-1]\n",
    "    if x == z:\n",
    "        print(\"Yes your string is palindrome\")\n",
    "    else:\n",
    "        print(\"Sorry! your string is not palindrome\")\n",
    "    return\n",
    "s = input(\"Enter the text you want to check for palindrome: \")\n",
    "palindrome(s)"
   ]
  },
  {
   "cell_type": "code",
   "execution_count": 6,
   "metadata": {},
   "outputs": [
    {
     "name": "stdout",
     "output_type": "stream",
     "text": [
      "Name: M.Ahtisham\n",
      "Father Name: Abdul Sattar\n",
      "Roll No: 045\n",
      "Enter your Math marks: 95\n",
      "Enter your Physics marks: 80\n",
      "Enter your Computer marks: 75\n",
      "Enter your Urdu marks: 85\n",
      "Enter your Islamiat marks: 90\n",
      "\n",
      "\n",
      "----------------------------------------------------------------------------------------------------------\n",
      "\t\t\t\t\tBoard of Secondary Education, Karachi \n",
      "\t\t\t\t\t\t STATEMENT OF MARKS \n",
      "\t\t\t\t\t\t F.S.C EXAMINATION \n",
      "\n",
      "\t\t\t\t\t\t SCIENCE GROUP\n",
      "----------------------------------------------------------------------------------------------------------\n",
      "\t\t\tM.Ahtisham\t\t\tAbdul Sattar\t\t\t45\n",
      "----------------------------------------------------------------------------------------------------------\n",
      "\n",
      "\n",
      "\t\t\t\tMaths: 95  |  100 \n",
      "\t\t\t\tPhysics: 80  |  100 \n",
      "\t\t\t\tComputer: 75 | 100 \n",
      "\t\t\t\tUrdu: 85  |  100  \n",
      "\t\t\t\tIslamiat:  90  |  100\n",
      "----------------------------------------------------------------------------------------------------------\n",
      "Percentage:  85.0 %  \t\t\tobtained Marks:  425 \t\t\tGrade:  A\n",
      "----------------------------------------------------------------------------------------------------------\n"
     ]
    }
   ],
   "source": [
    "#exercise no 5\n",
    "def personal_detail(name, fathername, rollNo):\n",
    "    \n",
    "    print('\\t\\t\\t{0}\\t\\t\\t{1}\\t\\t\\t{2}'.format(name, fathername, rollNo))\n",
    "    return\n",
    "name = str(input(\"Name: \"))\n",
    "fathername = str(input(\"Father Name: \"))\n",
    "rollNo = int(input(\"Roll No: \"))\n",
    "\n",
    "def score(maths, phy, comp, urdu, isl, obtained_marks):\n",
    "          \n",
    "    print(\"\\t\\t\\t\\tMaths: {0}  |  100 \\n\\t\\t\\t\\tPhysics: {1}  |  100 \\n\\t\\t\\t\\tComputer: {2} | 100 \\n\\t\\t\\t\\tUrdu: {3}  |  100  \\n\\t\\t\\t\\tIslamiat:  {4}  |  100\".format(maths,phy,comp,urdu,isl))\n",
    "    return\n",
    "maths = eval(input(\"Enter your Math marks: \"))\n",
    "phy = eval(input(\"Enter your Physics marks: \"))\n",
    "comp = eval(input(\"Enter your Computer marks: \"))\n",
    "urdu = eval(input(\"Enter your Urdu marks: \"))\n",
    "isl = eval(input(\"Enter your Islamiat marks: \"))   \n",
    "obtained_marks = (maths + phy + comp + urdu + isl) \n",
    "          \n",
    "def grading(obtained_marks, total_marks,grade):\n",
    "    \n",
    "    print(\"Percentage: \",percentage,\"%  \\t\\t\\tobtained Marks: \", obtained_marks,\"\\t\\t\\tGrade: \", grade)\n",
    "    return\n",
    "total_marks = 500\n",
    "percentage = (obtained_marks / total_marks) * 100\n",
    "if percentage >= 90:\n",
    "    grade = \"A+\"\n",
    "elif percentage >= 80 and percentage < 90:\n",
    "    grade = \"A\"\n",
    "elif percentage >= 70 and percentage < 80:\n",
    "    grade = \"B\"\n",
    "elif percentage >= 60 and percentage < 50:\n",
    "    grade = \"c\"\n",
    "elif percentage >= 50 and percentage < 40:\n",
    "    grades = \"D\"\n",
    "else:\n",
    "    grade = \"F\"\n",
    "\n",
    "\n",
    "    \n",
    "print(\"\\n\")\n",
    "print(\"----------------------------------------------------------------------------------------------------------\")\n",
    "print(\"\\t\\t\\t\\t\\tBoard of Secondary Education, Karachi \\n\\t\\t\\t\\t\\t\\t STATEMENT OF MARKS \\n\\t\\t\\t\\t\\t\\t F.S.C EXAMINATION \\n\\n\\t\\t\\t\\t\\t\\t SCIENCE GROUP\")\n",
    "print(\"----------------------------------------------------------------------------------------------------------\")\n",
    "personal_detail(name, fathername, rollNo)\n",
    "print(\"----------------------------------------------------------------------------------------------------------\")\n",
    "print(\"\\n\")\n",
    "score(maths, phy, comp, urdu, isl, obtained_marks)\n",
    "print(\"----------------------------------------------------------------------------------------------------------\")\n",
    "grading(obtained_marks, total_marks,grade)\n",
    "print(\"----------------------------------------------------------------------------------------------------------\")"
   ]
  },
  {
   "cell_type": "code",
   "execution_count": 4,
   "metadata": {},
   "outputs": [
    {
     "name": "stdout",
     "output_type": "stream",
     "text": [
      "First Law\n",
      "Enter the mass of body (in kg): 2\n",
      "Enter the velocity of body (in m/s): 5\n",
      "Enter the time (in seconds): 10\n",
      "The force of inertia is : 1.0 N\n",
      "Second Law\n",
      "Enter the mass of body (in kg): 2\n",
      "Enter the acceleration of body (in m/s^2): 10\n",
      "The force is : 20 N\n",
      "Third Law\n",
      "Enter the force on body (in N): 50\n",
      "Enter the reationary force  of body (in N): -50\n",
      "Proved\n"
     ]
    }
   ],
   "source": [
    "# exercise no 6\n",
    "# First Law\n",
    "print(\"First Law\")\n",
    "def inertia(m, v, t):\n",
    "    f = (m * v)/ t\n",
    "    print(\"The force of inertia is : {0}\".format(f), \"N\")\n",
    "    return\n",
    "m = eval(input(\"Enter the mass of body (in kg): \"))\n",
    "v = eval(input(\"Enter the velocity of body (in m/s): \"))\n",
    "t = eval(input(\"Enter the time (in seconds): \"))\n",
    "inertia(m, v, t)    \n",
    "\n",
    "# Second law\n",
    "print(\"Second Law\")\n",
    "def secondLaw(m, a):\n",
    "    f = (m * a)\n",
    "    print(\"The force is : {0}\".format(f), \"N\")\n",
    "    return\n",
    "m = eval(input(\"Enter the mass of body (in kg): \"))\n",
    "a = eval(input(\"Enter the acceleration of body (in m/s^2): \"))\n",
    "secondLaw(m, a)\n",
    "\n",
    "# Third law\n",
    "print(\"Third Law\")\n",
    "def thirdLaw(f1, f2):\n",
    "    if f1 == -f2:\n",
    "        print(\"Proved\")\n",
    "    else:\n",
    "        print(\"Not Proved\")\n",
    "f1 = eval(input(\"Enter the force on body (in N): \"))\n",
    "f2 = eval(input(\"Enter the reationary force  of body (in N): \"))\n",
    "thirdLaw(f1, f2)"
   ]
  },
  {
   "cell_type": "code",
   "execution_count": 2,
   "metadata": {},
   "outputs": [
    {
     "name": "stdout",
     "output_type": "stream",
     "text": [
      "Enter the velocity of projecrtile (in m/s): 15\n",
      "Enter the angle of projectile: 45\n",
      "Time for maximum height is:  1.0823062977345115 s\n",
      "Total time of flight:  2.164612595469023 s\n",
      "Maximum Height is:  5.739795918367348 m\n",
      "Range of projectile:  22.959183673469386 m\n"
     ]
    }
   ],
   "source": [
    "#exercise no 7\n",
    "from math import sin, pi\n",
    "V = eval(input(\"Enter the velocity of projecrtile (in m/s): \"))\n",
    "angle = eval(input(\"Enter the angle of projectile: \"))\n",
    "angle_in_radian = angle * (pi/180)\n",
    "g = 9.8\n",
    "def Time_Maximum_height(V,g):\n",
    "    t = (V * (sin(angle_in_radian)))/g\n",
    "    print(\"Time for maximum height is: \", t,\"s\")\n",
    "    return\n",
    "Time_Maximum_height(V,g)\n",
    "\n",
    "def Total_time_flight(V,g):\n",
    "    T = 2 *((V * (sin(angle_in_radian)))/g)\n",
    "    print(\"Total time of flight: \", T,\"s\")\n",
    "    return\n",
    "Total_time_flight(V,g)\n",
    "\n",
    "def Max_height(V,g):\n",
    "    h = (V**2)*(sin(angle_in_radian)**2)/(2*g)\n",
    "    print(\"Maximum Height is: \", h,\"m\")\n",
    "    return\n",
    "Max_height(V,g)\n",
    "\n",
    "def Range(V,g):\n",
    "    R = ((V**2)*(sin(2*(angle_in_radian)))/g)\n",
    "    print(\"Range of projectile: \", R,\"m\")\n",
    "    return\n",
    "Range(V,g)"
   ]
  },
  {
   "cell_type": "code",
   "execution_count": 9,
   "metadata": {},
   "outputs": [
    {
     "name": "stdout",
     "output_type": "stream",
     "text": [
      "Enter your name: ahtisham\n",
      "mahsitha\n"
     ]
    }
   ],
   "source": [
    "#exercise no 8\n",
    "def reverse(name):\n",
    "    lname = len(name)\n",
    "    rname = name[lname::-1]\n",
    "    print(rname)\n",
    "    return\n",
    "name = str(input(\"Enter your name: \"))\n",
    "reverse(name)"
   ]
  },
  {
   "cell_type": "code",
   "execution_count": 13,
   "metadata": {},
   "outputs": [
    {
     "name": "stdout",
     "output_type": "stream",
     "text": [
      "['Q', 'c', 'r', 'e', 'q', 'i', 'm', 'w', 'Q', 'E', 'l', 'x', 'm', 'w', 'l', 'e', 'q']\n"
     ]
    }
   ],
   "source": [
    "#exercise no 9\n",
    "def encrypt(Text, step):\n",
    "    outText = []\n",
    "    encryptText = []\n",
    "    \n",
    "    uppercase=['A','B','C','D','E','F','G','H','I','J','K','L','M','N','O','P','Q','R','S','T','U','V','W','X','Y','Z']\n",
    "    lowercase=['a','b','c','d','e','f','g','h','i','j','k','l','m','n','o','p','q','r','s','t','u','v','w','x','y','z']\n",
    "    \n",
    "    for eachLetter in Text:\n",
    "        if eachLetter in uppercase:\n",
    "                index = uppercase.index(eachLetter)\n",
    "                encrypting = (index+step)%26\n",
    "                encryptText.append(encrypting)\n",
    "                newLetter=uppercase[encrypting]\n",
    "                outText.append(newLetter)\n",
    "        elif eachLetter in lowercase:\n",
    "                index = lowercase.index(eachLetter)\n",
    "                encrypting = (index+step)%26\n",
    "                encryptText.append(encrypting)\n",
    "                newLetter=lowercase[encrypting]\n",
    "                outText.append(newLetter)\n",
    "    print(outText)\n",
    "    return \n",
    "encrypt(\"My name is M.Ahtisham\", 4)"
   ]
  },
  {
   "cell_type": "code",
   "execution_count": 30,
   "metadata": {},
   "outputs": [
    {
     "name": "stdout",
     "output_type": "stream",
     "text": [
      "Enter the starting value: 0\n",
      "Enter the Ending value: 10\n",
      "\n",
      "Sine:\n",
      "\n",
      "0.0 , 0.8414709848078965 , 0.9092974268256817 , 0.1411200080598672 , -0.7568024953079282 , -0.9589242746631385 , -0.27941549819892586 , 0.6569865987187891 , 0.9893582466233818 , 0.4121184852417566 , \n",
      "\n",
      "Cosine:\n",
      "\n",
      "1.0 , 0.5403023058681397 , -0.4161468365471424 , -0.9899924966004454 , -0.6536436208636119 , 0.28366218546322625 , 0.960170286650366 , 0.7539022543433046 , -0.14550003380861354 , -0.9111302618846769 , \n",
      "\n",
      "Tangent:\n",
      "\n",
      "0.0 , 1.5574077246549023 , -2.185039863261519 , -0.1425465430742778 , 1.1578212823495777 , -3.380515006246586 , -0.29100619138474915 , 0.8714479827243188 , -6.799711455220379 , -0.45231565944180985 , "
     ]
    }
   ],
   "source": [
    "#program no 10\n",
    "from math import sin, cos, tan\n",
    "StV = eval(input(\"Enter the starting value: \"))\n",
    "EnV = eval(input(\"Enter the Ending value: \"))\n",
    "print(\"\\nSine:\\n\")\n",
    "def fun_Sin(StV,EnV):\n",
    "    for i in range(StV, EnV):\n",
    "        CalSin = sin(i)\n",
    "        print(CalSin, end = ' , ')\n",
    "    return\n",
    "fun_Sin(StV,EnV)\n",
    "print(\"\\n\\nCosine:\\n\")\n",
    "\n",
    "def fun_Cos(StV,EnV):\n",
    "    for i in range(StV, EnV):\n",
    "        CalCos = cos(i)\n",
    "        print(CalCos, end = ' , ')\n",
    "    return\n",
    "fun_Cos(StV,EnV)\n",
    "print(\"\\n\\nTangent:\\n\")\n",
    "\n",
    "def fun_Tan(StV,EnV):\n",
    "    for i in range(StV, EnV):\n",
    "        CalTan = tan(i)\n",
    "        print(CalTan, end = ' , ')\n",
    "    return\n",
    "fun_Tan(StV,EnV)"
   ]
  },
  {
   "cell_type": "code",
   "execution_count": 4,
   "metadata": {},
   "outputs": [
    {
     "name": "stdout",
     "output_type": "stream",
     "text": [
      "Area including semi circle is: 153.93804002589985 cm² \n",
      "Area excluding semi circle is 76.96902001294993 cm²\n",
      "Perimeter excluding semi circles is:  98.96016858807847 cm\n",
      "Perimeter including semi circles is: 112.96016858807847 cm\n"
     ]
    }
   ],
   "source": [
    "# exercise no 11\n",
    "from math import pi\n",
    "def semicircle(R, r):\n",
    "    R = 14/2\n",
    "    r = R/2\n",
    "    area_include = pi * R**2\n",
    "    area_exclude = (pi * R**2) -(pi * r**2)-(pi * r**2)\n",
    "    Arc_Length = pi * R\n",
    "    arc_length = pi * r**2\n",
    "    print(\"Area including semi circle is:\",area_include,\"cm\\u00b2 \\nArea excluding semi circle is\",area_exclude,\"cm\\u00b2\")\n",
    "    print(\"Perimeter excluding semi circles is: \",Arc_Length+arc_length+arc_length,\"cm\")\n",
    "    print(\"Perimeter including semi circles is:\",Arc_Length+arc_length+arc_length+(R*2),\"cm\")\n",
    "    return\n",
    "semicircle(R, r)"
   ]
  }
 ],
 "metadata": {
  "kernelspec": {
   "display_name": "Python 3",
   "language": "python",
   "name": "python3"
  },
  "language_info": {
   "codemirror_mode": {
    "name": "ipython",
    "version": 3
   },
   "file_extension": ".py",
   "mimetype": "text/x-python",
   "name": "python",
   "nbconvert_exporter": "python",
   "pygments_lexer": "ipython3",
   "version": "3.7.4"
  }
 },
 "nbformat": 4,
 "nbformat_minor": 2
}
