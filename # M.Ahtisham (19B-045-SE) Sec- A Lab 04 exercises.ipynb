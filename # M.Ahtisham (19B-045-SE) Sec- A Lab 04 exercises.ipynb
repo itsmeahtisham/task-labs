{
 "cells": [
  {
   "cell_type": "markdown",
   "metadata": {},
   "source": [
    "# M.Ahtisham (19B-045-SE) Sec- A Lab 04 exercises"
   ]
  },
  {
   "cell_type": "code",
   "execution_count": 13,
   "metadata": {},
   "outputs": [
    {
     "name": "stdout",
     "output_type": "stream",
     "text": [
      "Input the value of a: 1\n",
      "Input the value of b: 2\n",
      "Input the value of c: 1\n",
      "The two values of x are:  x1=  -1.0  x2=  -1.0\n"
     ]
    }
   ],
   "source": [
    "# exercise no 1\n",
    "from math import sqrt\n",
    "import cmath\n",
    "a = eval(input(\"Input the value of a: \"))\n",
    "b = eval(input(\"Input the value of b: \"))\n",
    "c = eval(input(\"Input the value of c: \"))\n",
    "if a == 0:\n",
    "    print(\"equation cannot be solved\")\n",
    "elif (b < a and b < c) or (b > a and b < c):\n",
    "    q = (b**2) - (4 * a * c)\n",
    "    x1 = ((-b) + (cmath.sqrt(q))) / (2*a)\n",
    "    x2 = ((-b) - (cmath.sqrt(q))) / (2*a)\n",
    "    print(\"The two values of x are: \",x1,\" \", x2)\n",
    "else:\n",
    "    q = (b**2) - (4 * a * c)\n",
    "    x1 = ((-b) + (sqrt(q))) /(2*a)\n",
    "    x2 = ((-b) - (sqrt(q))) /(2*a)\n",
    "    print(\"The two values of x are: \",\"x1= \",x1, \" x2= \", x2)"
   ]
  },
  {
   "cell_type": "code",
   "execution_count": 18,
   "metadata": {},
   "outputs": [
    {
     "name": "stdout",
     "output_type": "stream",
     "text": [
      "Enter the first term of the sequence: 3\n",
      "Enter the common difference of the sequence: 6\n",
      "Do you want to find the nth term Yes or No: yes\n",
      "Enter the nth term you want to find: 35\n",
      "207\n",
      "Do you want to find another nth term of the sequence: yes\n",
      "Enter the nth term you want to find: 45\n",
      "267\n",
      "Do you want to find another nth term of the sequence: yes\n",
      "Enter the nth term you want to find: 96\n",
      "573\n",
      "Do you want to find another nth term of the sequence: no\n"
     ]
    },
    {
     "data": {
      "text/plain": [
       "('The answer of the nth term you entered is: ', 573)"
      ]
     },
     "execution_count": 18,
     "metadata": {},
     "output_type": "execute_result"
    }
   ],
   "source": [
    "# exercise no 2\n",
    "def sequence(a,d):\n",
    "    x = str(input(\"Do you want to find the nth term Yes or No: \"))\n",
    "    z= x.casefold()\n",
    "    while(z == \"yes\"):\n",
    "        n = int(input(\"Enter the nth term you want to find: \"))\n",
    "        Tn = a + ((n - 1) * d)\n",
    "        print(Tn)\n",
    "        x = input(\"Do you want to find another nth term of the sequence: \")\n",
    "        z = x.casefold()\n",
    "    return \"The answer of the nth term you entered is: \", Tn\n",
    "a = int(input(\"Enter the first term of the sequence: \"))\n",
    "d = int(input(\"Enter the common difference of the sequence: \"))\n",
    "sequence(a,d)"
   ]
  },
  {
   "cell_type": "code",
   "execution_count": 2,
   "metadata": {},
   "outputs": [
    {
     "name": "stdout",
     "output_type": "stream",
     "text": [
      "Enter the text you want to check for palindrome: civic\n",
      "Yes your string is palindrome\n"
     ]
    }
   ],
   "source": [
    "# exercise no 3\n",
    "string = input(\"Enter the text you want to check for palindrome: \")\n",
    "x = string.casefold()\n",
    "y = len(string)\n",
    "z = string[y::-1]\n",
    "if x == z:\n",
    "    print(\"Yes your string is palindrome\")\n",
    "else:\n",
    "    print(\"Sorry! your string is not palindrome\")"
   ]
  },
  {
   "cell_type": "code",
   "execution_count": 15,
   "metadata": {},
   "outputs": [
    {
     "name": "stdout",
     "output_type": "stream",
     "text": [
      "Name: Muhammad Ahtisham\n",
      "Father Name: Abdul Sattar\n",
      "Roll No: 10\n",
      "Date of Birth: 31 Jan 2000\n",
      "Enter your Math marks: 95\n",
      "Enter your Physics marks: 85\n",
      "Enter your Computer marks: 75\n",
      "Enter your Urdu marks: 80\n",
      "Enter your Islamiat marks: 90\n",
      "\n",
      "\n",
      "****************************************************************************************************************************\n",
      "\t\t\t\t\tBoard of Secondary Education, Karachi \n",
      "\t\t\t\t\t\t STATEMENT OF MARKS \n",
      "\t\t\t\t\t\t F.S.C EXAMINATION \n",
      "\n",
      "\t\t\t\t\t\t SCIENCE GROUP\n",
      "****************************************************************************************************************************\n",
      "Name:  Muhammad Ahtisham \t Father Name:  Abdul Sattar \t Roll No:  10 \t Date of birth:  31 Jan 2000\n",
      "****************************************************************************************************************************\n",
      "\n",
      "\n",
      "\t\t\t\t\t Maths:    95  | 100\n",
      "\t\t\t\t\t Physics:  85  | 100\n",
      "\t\t\t\t\t Computer: 75  | 100 \n",
      "\t\t\t\t\t Urdu:     80  | 100\n",
      "\t\t\t\t\t Islamiat: 90  | 100\n",
      "\n",
      "\n",
      "****************************************************************************************************************************\n",
      "\tTotal:  425 \t | Percentage:  85.0 % \t | Grade:  A\n",
      "****************************************************************************************************************************\n"
     ]
    }
   ],
   "source": [
    "# exercise no4\n",
    "Name = str(input(\"Name: \"))\n",
    "Father_Name = str(input(\"Father Name: \"))\n",
    "Roll_No = int(input(\"Roll No: \"))\n",
    "D_O_B = str(input(\"Date of Birth: \"))\n",
    "Maths = eval(input(\"Enter your Math marks: \"))\n",
    "Physics = eval(input(\"Enter your Physics marks: \"))\n",
    "Computer = eval(input(\"Enter your Computer marks: \"))\n",
    "Urdu = eval(input(\"Enter your Urdu marks: \"))\n",
    "Islamiat = eval(input(\"Enter your Islamiat marks: \"))\n",
    "total_marks = 500\n",
    "total_num = (Maths+Physics+Computer+Islamiat+Urdu)\n",
    "percentage = (total_num / total_marks) * 100\n",
    "if percentage >= 90:\n",
    "    grade = \"A+\"\n",
    "elif percentage >= 80 and percentage < 90:\n",
    "    grade = \"A\"\n",
    "elif percentage >= 70 and percentage < 80:\n",
    "    grade = \"B\"\n",
    "elif percentage >= 60 and percentage < 50:\n",
    "    grade = \"c\"\n",
    "elif percentage >= 50 and percentage < 40:\n",
    "    grade = \"D\"\n",
    "else:\n",
    "    grade = \"F\"\n",
    "print(\"\\n\")\n",
    "print(\"****************************************************************************************************************************\")\n",
    "print(\"\\t\\t\\t\\t\\tBoard of Secondary Education, Karachi \\n\\t\\t\\t\\t\\t\\t STATEMENT OF MARKS \\n\\t\\t\\t\\t\\t\\t F.S.C EXAMINATION \\n\\n\\t\\t\\t\\t\\t\\t SCIENCE GROUP\")\n",
    "print(\"****************************************************************************************************************************\")\n",
    "print(\"Name: \", Name, \"\\t Father Name: \",Father_Name, \"\\t Roll No: \",Roll_No, \"\\t Date of birth: \", D_O_B)\n",
    "print(\"****************************************************************************************************************************\")\n",
    "print(\"\\n\")\n",
    "print(\"\\t\\t\\t\\t\\t Maths:   \", Maths,\" | 100\\n\\t\\t\\t\\t\\t Physics: \",Physics,\" | 100\\n\\t\\t\\t\\t\\t Computer:\",Computer,\" | 100 \\n\\t\\t\\t\\t\\t Urdu:    \",Urdu,\" | 100\\n\\t\\t\\t\\t\\t Islamiat:\",Islamiat,    \" | 100\")\n",
    "print(\"\\n\")\n",
    "print(\"****************************************************************************************************************************\")\n",
    "print(\"\\tTotal: \",total_num, \"\\t | Percentage: \", percentage, \"% \\t | Grade: \", grade)\n",
    "print(\"****************************************************************************************************************************\")"
   ]
  },
  {
   "cell_type": "code",
   "execution_count": 1,
   "metadata": {},
   "outputs": [
    {
     "name": "stdout",
     "output_type": "stream",
     "text": [
      "input the number of rows: 5\n",
      "input the number of columns: 5\n",
      "Enter the entries row wise: \n",
      "1\n",
      "2\n",
      "3\n",
      "4\n",
      "5\n",
      "2\n",
      "4\n",
      "6\n",
      "8\n",
      "10\n",
      "3\n",
      "6\n",
      "9\n",
      "12\n",
      "15\n",
      "4\n",
      "8\n",
      "12\n",
      "16\n",
      "20\n",
      "5\n",
      "10\n",
      "15\n",
      "20\n",
      "25\n",
      "1 2 3 4 5 \n",
      "2 4 6 8 10 \n",
      "3 6 9 12 15 \n",
      "4 8 12 16 20 \n",
      "5 10 15 20 25 \n"
     ]
    }
   ],
   "source": [
    "# Exercise no 5\n",
    "row_num = int(input(\"input the number of rows: \"))\n",
    "col_num = int(input(\"input the number of columns: \"))\n",
    "\n",
    "matrix = []\n",
    "print(\"Enter the entries row wise: \")\n",
    "for row in range(row_num):\n",
    "    a = []\n",
    "    for col in range(col_num):\n",
    "        a.append(int(input()))\n",
    "    matrix.append(a)\n",
    "\n",
    "for row in range(row_num):\n",
    "    for col in range(col_num):\n",
    "        print(matrix[row][col], end = \" \")\n",
    "    print()"
   ]
  },
  {
   "cell_type": "code",
   "execution_count": 17,
   "metadata": {},
   "outputs": [
    {
     "name": "stdout",
     "output_type": "stream",
     "text": [
      "[4, 3, 3]\n",
      "[4, 5, 7]\n",
      "[2, 4, 3]\n"
     ]
    }
   ],
   "source": [
    "# Exercise 6\n",
    "x = [[1, 2, 2],[2, 3, 4],[1, 3, 2]]\n",
    "\n",
    "y = [[3, 1, 1],[2, 2, 3],[1, 1, 1]]\n",
    "\n",
    "result = [[0, 0, 0],[0, 0, 0],[0, 0, 0]]\n",
    "\n",
    "for i in range(len(x)):\n",
    "    for j in range(len(y)):\n",
    "        result[i][j]= x[i][j] + y[i][j]\n",
    "\n",
    "for r in result:\n",
    "    print(r)"
   ]
  },
  {
   "cell_type": "code",
   "execution_count": 18,
   "metadata": {},
   "outputs": [
    {
     "name": "stdout",
     "output_type": "stream",
     "text": [
      "[7, 18]\n",
      "[24, 40]\n"
     ]
    }
   ],
   "source": [
    "# Exercise 7\n",
    "x = [[1,2],[3,4]]\n",
    "\n",
    "y = [[7,8],[9,10]]\n",
    "\n",
    "result = [[0,0],[0,0]]\n",
    "for i in range(len(x)):\n",
    "    #print(i)\n",
    "    for j in range(len(y[0])):\n",
    "        #print(y)\n",
    "        result[i][j] = x[i][j] * y[j][i]\n",
    "\n",
    "for r in result:\n",
    "    print(r)"
   ]
  }
 ],
 "metadata": {
  "kernelspec": {
   "display_name": "Python 3",
   "language": "python",
   "name": "python3"
  },
  "language_info": {
   "codemirror_mode": {
    "name": "ipython",
    "version": 3
   },
   "file_extension": ".py",
   "mimetype": "text/x-python",
   "name": "python",
   "nbconvert_exporter": "python",
   "pygments_lexer": "ipython3",
   "version": "3.6.4"
  }
 },
 "nbformat": 4,
 "nbformat_minor": 2
}
