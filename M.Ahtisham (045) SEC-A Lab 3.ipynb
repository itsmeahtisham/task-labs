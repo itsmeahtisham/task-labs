{
 "cells": [
  {
   "cell_type": "markdown",
   "metadata": {},
   "source": [
    "# M.Ahtisham (045) SEC-A Lab 3"
   ]
  },
  {
   "cell_type": "code",
   "execution_count": 1,
   "metadata": {},
   "outputs": [
    {
     "name": "stdout",
     "output_type": "stream",
     "text": [
      "Sum is: 32\n",
      "Difference is: -12\n",
      "Product is: 220\n",
      "Division is: 0.45454545454545453\n",
      "Integer division is: 0\n",
      "Raised to the power is: 10000000000000000000000\n",
      "Remainder is: 10\n"
     ]
    }
   ],
   "source": [
    "#Program 1\n",
    "#Math operation in Python \n",
    "a = 10\n",
    "b = 22\n",
    "#Using sum operator\n",
    "print(\"Sum is:\",a+b)\n",
    "#Using Subtract operator\n",
    "print(\"Difference is:\",a-b)\n",
    "#Using multiplication operator\n",
    "print(\"Product is:\",a*b)\n",
    "#Using division operator\n",
    "print(\"Division is:\",a/b)\n",
    "#Using integer division operator\n",
    "print(\"Integer division is:\",a//b)\n",
    "#Using powe operator\n",
    "print(\"Raised to the power is:\",a**b)\n",
    "#Using modulo operator\n",
    "print(\"Remainder is:\",a%b)"
   ]
  },
  {
   "cell_type": "code",
   "execution_count": 2,
   "metadata": {},
   "outputs": [
    {
     "name": "stdout",
     "output_type": "stream",
     "text": [
      "8\n",
      "2\n",
      "15\n",
      "1.6666666666666667\n",
      "2\n",
      "1\n",
      "125\n",
      "1\n",
      "7\n",
      "6\n",
      "0\n",
      "40\n"
     ]
    }
   ],
   "source": [
    "#program 2\n",
    "x = 5\n",
    "x +=3\n",
    "print(x)\n",
    "\n",
    "x = 5\n",
    "x -=3\n",
    "print(x)\n",
    "\n",
    "x = 5\n",
    "x *=3\n",
    "print(x)\n",
    "\n",
    "x = 5\n",
    "x /=3\n",
    "print(x)\n",
    "\n",
    "x = 5\n",
    "x %=3\n",
    "print(x)\n",
    "\n",
    "x =5\n",
    "x //=3\n",
    "print(x)\n",
    "\n",
    "x = 5\n",
    "x **=3\n",
    "print(x)\n",
    "\n",
    "x = 5\n",
    "x &=3\n",
    "print(x)\n",
    "\n",
    "x = 5\n",
    "x|= 3\n",
    "print(x)\n",
    "\n",
    "x = 5\n",
    "x^=3\n",
    "print(x)\n",
    "\n",
    "x = 5\n",
    "x>>=3\n",
    "print(x)\n",
    "\n",
    "x = 5\n",
    "x<<=3\n",
    "print(x)"
   ]
  },
  {
   "cell_type": "code",
   "execution_count": 3,
   "metadata": {},
   "outputs": [
    {
     "name": "stdout",
     "output_type": "stream",
     "text": [
      "X is equal to Y: False\n",
      "X is not equal to Y: True\n",
      "X is Greater than Y: True\n",
      "X is Less than Y: False\n",
      "X is Greater than or equal to Y: True\n",
      "X is Less than or equal to Y: False\n"
     ]
    }
   ],
   "source": [
    "#program 3\n",
    "x = 20\n",
    "y = 15\n",
    "\n",
    "print(\"X is equal to Y:\",x==y)\n",
    "print(\"X is not equal to Y:\",x!=y)\n",
    "print(\"X is Greater than Y:\",x>y)\n",
    "print(\"X is Less than Y:\",x<y)\n",
    "print(\"X is Greater than or equal to Y:\",x>=y)\n",
    "print(\"X is Less than or equal to Y:\",x<=y)"
   ]
  },
  {
   "cell_type": "code",
   "execution_count": 4,
   "metadata": {},
   "outputs": [
    {
     "name": "stdout",
     "output_type": "stream",
     "text": [
      "False\n",
      "True\n",
      "False\n"
     ]
    }
   ],
   "source": [
    "#program 4\n",
    "x = 14\n",
    "print(x>23 and x<24)\n",
    "\n",
    "x = 25\n",
    "print(x>23 or x<24)\n",
    "\n",
    "x = 35\n",
    "print(not(x>33 and x<40))"
   ]
  },
  {
   "cell_type": "code",
   "execution_count": 5,
   "metadata": {},
   "outputs": [
    {
     "name": "stdout",
     "output_type": "stream",
     "text": [
      "True\n",
      "False\n",
      "True\n"
     ]
    }
   ],
   "source": [
    "#Program 5\n",
    "x = [\"ahmed\",\"bashir\"]\n",
    "y = [\"ahmed\",\"bashir\"]\n",
    "z = x\n",
    "print(x is z)\n",
    "print(x is y)\n",
    "print(x==y)\n"
   ]
  },
  {
   "cell_type": "code",
   "execution_count": 6,
   "metadata": {},
   "outputs": [
    {
     "name": "stdout",
     "output_type": "stream",
     "text": [
      "False\n",
      "True\n",
      "False\n"
     ]
    }
   ],
   "source": [
    "#Program 6\n",
    "x = [\"ahmed\",\"bashir\"]\n",
    "y = [\"ahmed\",\"bashir\"]\n",
    "z = x\n",
    "print(x is not z)\n",
    "print(x is not y)\n",
    "print(x!=y)"
   ]
  },
  {
   "cell_type": "code",
   "execution_count": 7,
   "metadata": {},
   "outputs": [
    {
     "name": "stdout",
     "output_type": "stream",
     "text": [
      "True\n"
     ]
    }
   ],
   "source": [
    "#program 7\n",
    "x = [\"wasim\",\"lubaid\",\"shahroz\",\"usman\",\"faisal\",\"farhan\"]\n",
    "print(\"faisal\" in x)"
   ]
  },
  {
   "cell_type": "code",
   "execution_count": null,
   "metadata": {},
   "outputs": [
    {
     "name": "stdout",
     "output_type": "stream",
     "text": [
      "True\n"
     ]
    }
   ],
   "source": [
    "#program 8\n",
    "x = [\"wasim\",\"lubaid\",\"shahroz\",\"usman\",\"faisal\",\"farhan\"]\n",
    "print(\"parkash\" not in x)"
   ]
  },
  {
   "cell_type": "code",
   "execution_count": 6,
   "metadata": {},
   "outputs": [
    {
     "name": "stdout",
     "output_type": "stream",
     "text": [
      "Give me a velocity to fire at(in m/s):10\n",
      "Give me an angle of fire at:50\n",
      "Give me how far away you are from sturcture:2\n",
      "Give me the height of the structure (in meters):10\n",
      "Final Velocity is: 2.3719318289956117 m/s\n"
     ]
    }
   ],
   "source": [
    "#Program 9\n",
    "import math\n",
    "velocity = float(input(\"Give me a velocity to fire at(in m/s):\"))\n",
    "angle = float(input(\"Give me an angle of fire at:\"))\n",
    "distance = float(input(\"Give me how far away you are from sturcture:\"))\n",
    "height = float(input(\"Give me the height of the structure (in meters):\"))\n",
    "slingshot = 5 #Height of sling shot in meter\n",
    "gravity = 9.8 #Earth gravity\n",
    "\n",
    "#coverting angles to radian\n",
    "angleRad = math.radians(angle)\n",
    "\n",
    "#Computing our x and y coordinate\n",
    "x = math.cos(angleRad)\n",
    "y = math.sin(angleRad)\n",
    "\n",
    "#Calculation\n",
    "time = distance/(velocity*x)\n",
    "vx = x\n",
    "vy = y + (-9.8*time)\n",
    "finalVelocity= math.sqrt((vx**2)+(vy**2))\n",
    "print(\"Final Velocity is:\",finalVelocity,\"m/s\")"
   ]
  },
  {
   "cell_type": "code",
   "execution_count": 1,
   "metadata": {},
   "outputs": [
    {
     "name": "stdout",
     "output_type": "stream",
     "text": [
      "Enter the value of radius in meters: 2\n",
      "Linear velocity is:  20.0 m/s\n"
     ]
    }
   ],
   "source": [
    "#Question 1\n",
    "angular_velocity= 10\n",
    "Radius= float(input(\"Enter the value of radius in meters: \"))\n",
    "Linear_velocity= Radius * angular_velocity\n",
    "print(\"Linear velocity is: \",Linear_velocity,\"m/s\")"
   ]
  },
  {
   "cell_type": "code",
   "execution_count": 4,
   "metadata": {},
   "outputs": [
    {
     "name": "stdout",
     "output_type": "stream",
     "text": [
      "Enter the value of radius in meters: 5\n",
      "Enter the value of Revolution per minute: 5000\n",
      "Magnitude of linear velocity is:  2617.993877991494 m/s\n"
     ]
    }
   ],
   "source": [
    "#Question 2\n",
    "from math import pi\n",
    "r = float(input(\"Enter the value of radius in meters: \"))\n",
    "rpm = int(input(\"Enter the value of Revolution per minute: \"))\n",
    "a = rpm/60\n",
    "w = a * 2 * pi\n",
    "Velocity = r*w\n",
    "print(\"Magnitude of linear velocity is: \", Velocity,\"m/s\")"
   ]
  },
  {
   "cell_type": "code",
   "execution_count": 3,
   "metadata": {},
   "outputs": [
    {
     "name": "stdout",
     "output_type": "stream",
     "text": [
      "Enter the value of radius in cm: 30\n",
      "Angular Velocity is:  33.333333333333336 rad/s\n"
     ]
    }
   ],
   "source": [
    "#Question 3\n",
    "r = float(input(\"Enter the value of radius in cm: \"))\n",
    "R = r/100 #convert cm to m\n",
    "v = 10 # velocity in meter per second\n",
    "Angular_velocity = v/R\n",
    "print(\"Angular Velocity is: \",Angular_velocity, \"rad/s\")"
   ]
  },
  {
   "cell_type": "code",
   "execution_count": 4,
   "metadata": {},
   "outputs": [
    {
     "name": "stdout",
     "output_type": "stream",
     "text": [
      "Enter the value of Velocity in m/s: 10\n",
      "Enter the value of Diameter cm: 50\n",
      "Angular Velocity is: 40.0 rad/s\n"
     ]
    }
   ],
   "source": [
    "#Question 4\n",
    "v = float(input(\"Enter the value of Velocity in m/s: \"))\n",
    "d = float(input(\"Enter the value of Diameter cm: \"))\n",
    "r = d/2 \n",
    "R = r/100 #convert cm to m\n",
    "Angular_velocity = v/R\n",
    "print(\"Angular Velocity is:\",Angular_velocity,\"rad/s\")"
   ]
  },
  {
   "cell_type": "code",
   "execution_count": 4,
   "metadata": {},
   "outputs": [
    {
     "name": "stdout",
     "output_type": "stream",
     "text": [
      "Enter the value of radius in cm: 20\n",
      "Enter the value of angular speed rpm: 120\n",
      "Enter timne in sec: 10\n",
      "Distance Travel is: 25.132741228718345 m\n"
     ]
    }
   ],
   "source": [
    "#Question 5\n",
    "from math import pi\n",
    "r = float(input(\"Enter the value of radius in cm: \"))\n",
    "angular_speed = float(input(\"Enter the value of angular speed rpm: \"))\n",
    "t = float(input(\"Enter timne in sec: \"))\n",
    "R = r/100 #convert cm to m\n",
    "z = angular_speed/60 \n",
    "w = z*2*pi\n",
    "v = R*w\n",
    "Distance = v*t\n",
    "print(\"Distance Travel is:\",Distance,\"m\")"
   ]
  },
  {
   "cell_type": "code",
   "execution_count": 3,
   "metadata": {},
   "outputs": [
    {
     "name": "stdout",
     "output_type": "stream",
     "text": [
      "Enter the value of Velocity in miles per hour: 50\n",
      "Enter the value of acceleration in miles per hour^2: 10\n",
      "Enter the value of time in hours: 2\n",
      "Distance covered:  225307.59999999998 m\n"
     ]
    }
   ],
   "source": [
    "#Question 6\n",
    "u = float(input(\"Enter the value of Velocity in miles per hour: \"))\n",
    "a = float(input(\"Enter the value of acceleration in miles per hour^2: \"))\n",
    "t = float(input(\"Enter the value of time in hours: \"))\n",
    "v = u +(a*t)\n",
    "d = v*t\n",
    "d_in_meter = d*1609.34\n",
    "print(\"Distance covered: \",d_in_meter,\"m\")"
   ]
  },
  {
   "cell_type": "code",
   "execution_count": 7,
   "metadata": {},
   "outputs": [
    {
     "name": "stdout",
     "output_type": "stream",
     "text": [
      "Enter the value of height in feet: 100\n",
      "Velocity with which stone hit the ground is :  24.441334822636467 m/s\n"
     ]
    }
   ],
   "source": [
    "#Question 7\n",
    "from math import sqrt\n",
    "u = 0\n",
    "g = 9.8\n",
    "h = float(input(\"Enter the value of height in feet: \"))\n",
    "h_in_meter = h/3.281\n",
    "velocity = sqrt((2*g*h_in_meter)+u**2)\n",
    "print(\"Velocity with which stone hit the ground is : \", velocity,\"m/s\")"
   ]
  }
 ],
 "metadata": {
  "kernelspec": {
   "display_name": "Python 3",
   "language": "python",
   "name": "python3"
  },
  "language_info": {
   "codemirror_mode": {
    "name": "ipython",
    "version": 3
   },
   "file_extension": ".py",
   "mimetype": "text/x-python",
   "name": "python",
   "nbconvert_exporter": "python",
   "pygments_lexer": "ipython3",
   "version": "3.7.4"
  }
 },
 "nbformat": 4,
 "nbformat_minor": 2
}
